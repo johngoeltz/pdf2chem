{
 "cells": [
  {
   "cell_type": "code",
   "execution_count": 1,
   "id": "aware-cream",
   "metadata": {},
   "outputs": [
    {
     "name": "stdout",
     "output_type": "stream",
     "text": [
      "We'll use pdftotext as the pdf extraction method.\n"
     ]
    }
   ],
   "source": [
    "from pdf2chem import pdf2chem as p2c"
   ]
  },
  {
   "cell_type": "code",
   "execution_count": 2,
   "id": "dirty-kansas",
   "metadata": {},
   "outputs": [
    {
     "name": "stdout",
     "output_type": "stream",
     "text": [
      "Successfully downloaded 0 new data packages (18 existing)\n"
     ]
    }
   ],
   "source": [
    "!cde data download"
   ]
  },
  {
   "cell_type": "code",
   "execution_count": 3,
   "id": "threaded-major",
   "metadata": {},
   "outputs": [
    {
     "name": "stdout",
     "output_type": "stream",
     "text": [
      "The initial list for Smith_wet_DES_salty_water.pdf has 2958 words.\n",
      "We'll attempt to resolve 131 potential chemicals.\n",
      "urea NC(N)=O\n",
      "choline chloride [Cl-].C[N+](C)(C)CCO\n",
      "We've already queried this one: urea\n",
      "Found one known to be a false positive: chcl\n",
      "hydrogen [H]\n",
      "We've already queried this one: urea\n",
      "We've already queried this one: chcl\n",
      "We've already queried this one: hydrogen\n",
      "We've already queried this one: choline chloride\n",
      "We've already queried this one: chcl\n",
      "We've already queried this one: chcl\n",
      "We've already queried this one: urea\n",
      "We've already queried this one: hydrogen\n",
      "We've already queried this one: choline chloride\n",
      "We've already queried this one: choline chloride\n",
      "des CC\\C(c1ccc(O)cc1)=C(\\CC)c2ccc(O)cc2\n",
      "We've already queried this one: chcl\n",
      "We've already queried this one: chcl\n",
      "We've already queried this one: choline chloride\n",
      "dry ice O=C=O\n",
      "We've already queried this one: urea\n",
      "amide [NH2-]\n",
      "We've already queried this one: hydrogen\n",
      "We've already queried this one: chcl\n",
      "We've already queried this one: urea\n",
      "We've already queried this one: urea\n",
      "h2o O\n",
      "We've already queried this one: hydrogen\n",
      "We've already queried this one: urea\n",
      "We've already queried this one: urea\n",
      "We've already queried this one: urea\n",
      "We've already queried this one: des\n",
      "ethylene glycol OCCO\n",
      "We've already queried this one: choline chloride\n",
      "We've already queried this one: choline chloride\n",
      "We've already queried this one: chcl\n",
      "We've already queried this one: chcl\n",
      "acetone CC(C)=O\n",
      "We've already queried this one: urea\n",
      "We've already queried this one: urea\n",
      "ureas None\n",
      "We've already queried this one: ethylene glycol\n",
      "We've already queried this one: des\n",
      "We've already queried this one: choline chloride\n",
      "chcl des None\n",
      "We've already queried this one: chcl\n",
      "We've already queried this one: chcl\n",
      "We've already queried this one: urea\n",
      "We've already queried this one: urea\n",
      "We've already queried this one: urea\n",
      "We've already queried this one: urea\n",
      "Found one known to be a false positive: alcohol\n",
      "We've already queried this one: urea\n",
      "We've already queried this one: chcl\n",
      "We've already queried this one: amide\n",
      "hydroxyl [OH-]\n",
      "We've already queried this one: urea\n",
      "We've already queried this one: choline chloride\n",
      "We've already queried this one: urea\n",
      "We've already queried this one: chcl\n",
      "We've already queried this one: choline chloride\n",
      "We've already queried this one: chcl\n",
      "We've already queried this one: urea\n",
      "2:1 ethylene glycol None\n",
      "We've already queried this one: choline chloride\n",
      "We've already queried this one: chcl\n",
      "We've already queried this one: choline chloride\n",
      "We've already queried this one: choline chloride\n",
      "We've already queried this one: urea\n",
      "We've already queried this one: chcl\n",
      "We've already queried this one: chcl\n",
      "We've already queried this one: chcl\n",
      "We've already queried this one: chcl\n",
      "We've already queried this one: urea\n",
      "We've already queried this one: chcl des\n",
      "We've already queried this one: hydrogen\n",
      "We've already queried this one: des\n",
      "We've already queried this one: chcl des\n",
      "We've already queried this one: urea\n",
      "We've already queried this one: chcl\n",
      "We've already queried this one: hydrogen\n",
      "We've already queried this one: hydrogen\n",
      "We've already queried this one: urea\n",
      "We've already queried this one: h2o\n",
      "We've already queried this one: urea\n",
      "We've already queried this one: urea\n",
      "We've already queried this one: chcl\n",
      "We've already queried this one: urea\n",
      "We've already queried this one: choline chloride\n",
      "We've already queried this one: chcl\n",
      "We've already queried this one: urea\n",
      "We've already queried this one: chcl\n",
      "We've already queried this one: chcl\n",
      "jgoeltz None\n",
      "We've already queried this one: choline chloride\n",
      "We've already queried this one: urea\n",
      "We've already queried this one: urea\n",
      "We've already queried this one: urea\n",
      "We've already queried this one: urea\n",
      "We've already queried this one: choline chloride\n",
      "We've already queried this one: urea\n",
      "We've already queried this one: des\n",
      "We've already queried this one: des\n",
      "We've already queried this one: hydrogen\n",
      "We've already queried this one: des\n",
      "We've already queried this one: acetone\n",
      "We've already queried this one: chcl\n",
      "04xh2o None\n",
      "We've already queried this one: urea\n",
      "We've already queried this one: alcohol\n",
      "We've already queried this one: chcl\n",
      "We've already queried this one: des\n",
      "We've already queried this one: chcl\n",
      "We've already queried this one: chcl\n",
      "We've already queried this one: chcl\n",
      "We've already queried this one: chcl\n",
      "We've already queried this one: choline chloride\n",
      "We've already queried this one: urea\n",
      "We've already queried this one: urea\n",
      "We've already queried this one: choline chloride\n",
      "We've already queried this one: urea\n",
      "We've already queried this one: des\n",
      "We've already queried this one: ureas\n",
      "We've already queried this one: chcl des\n",
      "We've already queried this one: urea\n",
      "We've already queried this one: urea\n",
      "We've already queried this one: urea\n",
      "We've already queried this one: urea\n",
      "We've already queried this one: urea\n",
      "We've already queried this one: h2o\n",
      "We've already queried this one: h2o\n"
     ]
    }
   ],
   "source": [
    "p2c.curate_folder('C:/Users/jgoel/20210223_JG_paper')"
   ]
  }
 ],
 "metadata": {
  "kernelspec": {
   "display_name": "Python 3",
   "language": "python",
   "name": "python3"
  },
  "language_info": {
   "codemirror_mode": {
    "name": "ipython",
    "version": 3
   },
   "file_extension": ".py",
   "mimetype": "text/x-python",
   "name": "python",
   "nbconvert_exporter": "python",
   "pygments_lexer": "ipython3",
   "version": "3.7.10"
  }
 },
 "nbformat": 4,
 "nbformat_minor": 5
}
