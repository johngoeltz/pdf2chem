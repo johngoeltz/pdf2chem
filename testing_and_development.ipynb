{
 "cells": [
  {
   "cell_type": "code",
   "execution_count": 1,
   "id": "impressed-favorite",
   "metadata": {},
   "outputs": [
    {
     "name": "stdout",
     "output_type": "stream",
     "text": [
      "We'll use pdftotext as the pdf extraction method.\n"
     ]
    }
   ],
   "source": [
    "import pdf2chem as p2c"
   ]
  },
  {
   "cell_type": "code",
   "execution_count": 7,
   "id": "nasty-table",
   "metadata": {},
   "outputs": [
    {
     "name": "stdout",
     "output_type": "stream",
     "text": [
      "The initial list for 20210309_short_doc_for_python-testing.pdf has 161 words.\n",
      "We'll attempt to resolve 2 potential chemicals.\n",
      "Exception raised.  Pausing for 2 seconds and trying again\n",
      "Exception raised.  Pausing for another 2 seconds and trying again\n",
      "Exception raised.  Pausing for one more stretch and trying again\n",
      "It still raised an exception.  Here's how far it got:\n",
      "[]\n",
      "0\n",
      "This item will be added to a list called missed items.\n",
      "choline chloride\n",
      "Exception raised.  Pausing for 2 seconds and trying again\n",
      "Exception raised.  Pausing for another 2 seconds and trying again\n",
      "Exception raised.  Pausing for one more stretch and trying again\n",
      "It still raised an exception.  Here's how far it got:\n",
      "['Check']\n",
      "1\n",
      "This item will be added to a list called missed items.\n",
      "urea\n"
     ]
    }
   ],
   "source": [
    "p2c.curate_folder('C:/Users/jgoel/pdf2chem/tests')"
   ]
  },
  {
   "cell_type": "code",
   "execution_count": null,
   "id": "thrown-xerox",
   "metadata": {},
   "outputs": [],
   "source": []
  },
  {
   "cell_type": "code",
   "execution_count": null,
   "id": "sixth-shuttle",
   "metadata": {},
   "outputs": [],
   "source": []
  }
 ],
 "metadata": {
  "kernelspec": {
   "display_name": "Python 3",
   "language": "python",
   "name": "python3"
  },
  "language_info": {
   "codemirror_mode": {
    "name": "ipython",
    "version": 3
   },
   "file_extension": ".py",
   "mimetype": "text/x-python",
   "name": "python",
   "nbconvert_exporter": "python",
   "pygments_lexer": "ipython3",
   "version": "3.7.10"
  }
 },
 "nbformat": 4,
 "nbformat_minor": 5
}
