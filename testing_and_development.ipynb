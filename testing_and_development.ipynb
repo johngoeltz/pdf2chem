{
 "cells": [
  {
   "cell_type": "code",
   "execution_count": 1,
   "id": "regulated-hopkins",
   "metadata": {},
   "outputs": [
    {
     "name": "stdout",
     "output_type": "stream",
     "text": [
      "We'll use pdftotext as the pdf extraction method.\n"
     ]
    }
   ],
   "source": [
    "import pdf2chem as p2c"
   ]
  },
  {
   "cell_type": "code",
   "execution_count": 2,
   "id": "cleared-public",
   "metadata": {},
   "outputs": [
    {
     "name": "stdout",
     "output_type": "stream",
     "text": [
      "The initial list for 20210309_short_doc_for_python-testing.pdf has 161 words.\n",
      "We'll attempt to resolve 2 potential chemicals.\n",
      "choline chloride [Cl-].C[N+](C)(C)CCO\n",
      "urea NC(N)=O\n"
     ]
    }
   ],
   "source": [
    "p2c.curate_folder('C:/Users/jgoel/pdf2chem/tests')"
   ]
  },
  {
   "cell_type": "code",
   "execution_count": 14,
   "id": "quiet-worker",
   "metadata": {},
   "outputs": [
    {
     "name": "stdout",
     "output_type": "stream",
     "text": [
      "[['', 'Name', 'SMILES'], ['0', 'choline chloride', 'Check'], ['1', 'urea', 'Check']]\n"
     ]
    }
   ],
   "source": [
    "expected_output = []\n",
    "with open ('C:/Users/jgoel/pdf2chem/tests/20210309_short_doc_for_python-testing_20210309_names_and_SMILES.csv') as f:\n",
    "    expected_output = [line.strip('\\n').split(',') for line in f]\n",
    "print(expected_output)"
   ]
  },
  {
   "cell_type": "code",
   "execution_count": null,
   "id": "owned-survival",
   "metadata": {},
   "outputs": [],
   "source": []
  }
 ],
 "metadata": {
  "kernelspec": {
   "display_name": "Python 3",
   "language": "python",
   "name": "python3"
  },
  "language_info": {
   "codemirror_mode": {
    "name": "ipython",
    "version": 3
   },
   "file_extension": ".py",
   "mimetype": "text/x-python",
   "name": "python",
   "nbconvert_exporter": "python",
   "pygments_lexer": "ipython3",
   "version": "3.7.10"
  }
 },
 "nbformat": 4,
 "nbformat_minor": 5
}
